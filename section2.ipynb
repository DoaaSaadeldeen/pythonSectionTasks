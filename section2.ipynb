{
 "cells": [
  {
   "cell_type": "code",
   "execution_count": 2,
   "id": "32d79bc5-e421-41a4-8c1b-287f65a118da",
   "metadata": {},
   "outputs": [
    {
     "name": "stdout",
     "output_type": "stream",
     "text": [
      "8\n"
     ]
    }
   ],
   "source": [
    "def max_fun(my_list):\n",
    "    mx=0\n",
    "    for i in my_list:\n",
    "        if(i>mx):\n",
    "            mx=i\n",
    "    print(mx)\n",
    "\n",
    "my_list=[1,3,8,2,4,6]\n",
    "max_fun(my_list)"
   ]
  },
  {
   "cell_type": "code",
   "execution_count": 4,
   "id": "25e7b6cd-693a-4ecc-8b4e-d07f88ec56ca",
   "metadata": {},
   "outputs": [
    {
     "name": "stdin",
     "output_type": "stream",
     "text": [
      "enter your age 21\n"
     ]
    },
    {
     "name": "stdout",
     "output_type": "stream",
     "text": [
      "3aaaaaaaaaash\n"
     ]
    }
   ],
   "source": [
    "age=(int)(input(\"enter your age\"))\n",
    "if age>0:\n",
    "    print(\"3aaaaaaaaaash\")\n",
    "else:\n",
    "    print(\"mosh fek mind??\")"
   ]
  },
  {
   "cell_type": "code",
   "execution_count": 17,
   "id": "a3d42a98-97a9-4f22-bbd3-21585d6a0a57",
   "metadata": {},
   "outputs": [
    {
     "name": "stdin",
     "output_type": "stream",
     "text": [
      "enter number  5\n"
     ]
    },
    {
     "name": "stdout",
     "output_type": "stream",
     "text": [
      "25\n"
     ]
    }
   ],
   "source": [
    "x=(int)(input(\"enter number \"))\n",
    "print(x*x)"
   ]
  },
  {
   "cell_type": "markdown",
   "id": "be4c25d6-9dd4-4ff8-a91c-e28e217584da",
   "metadata": {},
   "source": [
    "# def get_avg(grades):\n",
    "    sum=0\n",
    "    for i in grades:\n",
    "        sum=sum+i\n",
    "    print(\"average = \",sum/len(grades))  \n",
    "\n",
    "grades=[]\n",
    "n=(int)(input(\"enter number of subjects\"))\n",
    "for i in range(n):\n",
    "    grades.append((int)(input(\"degree is \")))\n",
    "get_avg(grades)    "
   ]
  },
  {
   "cell_type": "code",
   "execution_count": 23,
   "id": "429eb3ac-bc35-464a-beb4-22e83fe5bc5d",
   "metadata": {},
   "outputs": [
    {
     "name": "stdout",
     "output_type": "stream",
     "text": [
      "[0, 1, 8, 27, 64, 125]\n"
     ]
    }
   ],
   "source": [
    "list2=[i ** 3 for i in range(6)]\n",
    "print(list2)"
   ]
  },
  {
   "cell_type": "code",
   "execution_count": 26,
   "id": "d59fe267-4e77-4670-8610-0598df49fb17",
   "metadata": {},
   "outputs": [
    {
     "name": "stdout",
     "output_type": "stream",
     "text": [
      "[1, 8, 27, 64, 125, 216]\n"
     ]
    }
   ],
   "source": [
    "list2=[1,2,3,4,5,6]\n",
    "idx=0\n",
    "for i in list2:\n",
    "    list2[idx]=i*i*i\n",
    "    idx=idx+1\n",
    "print(list2)  "
   ]
  },
  {
   "cell_type": "code",
   "execution_count": 33,
   "id": "c61c8c16-badd-4ec2-b83e-a66cd87339ac",
   "metadata": {},
   "outputs": [
    {
     "name": "stdout",
     "output_type": "stream",
     "text": [
      "[0, 1, 8, 27, 64, 125]\n"
     ]
    }
   ],
   "source": [
    "list2=[1,2,3,4,5,6]\n",
    "for i in range(len(list2)):\n",
    "    list2[i]=i*i*i\n",
    "print(list2)  "
   ]
  },
  {
   "cell_type": "code",
   "execution_count": null,
   "id": "405dbe05-6bd8-476d-aa3f-38f067fb067e",
   "metadata": {},
   "outputs": [],
   "source": []
  }
 ],
 "metadata": {
  "kernelspec": {
   "display_name": "Python 3 (ipykernel)",
   "language": "python",
   "name": "python3"
  },
  "language_info": {
   "codemirror_mode": {
    "name": "ipython",
    "version": 3
   },
   "file_extension": ".py",
   "mimetype": "text/x-python",
   "name": "python",
   "nbconvert_exporter": "python",
   "pygments_lexer": "ipython3",
   "version": "3.9.7"
  }
 },
 "nbformat": 4,
 "nbformat_minor": 5
}
