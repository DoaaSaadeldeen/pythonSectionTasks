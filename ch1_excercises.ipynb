{
 "cells": [
  {
   "cell_type": "code",
   "execution_count": 7,
   "metadata": {},
   "outputs": [],
   "source": [
    "import networkx as nx\n",
    "%matplotlib inline "
   ]
  },
  {
   "cell_type": "code",
   "execution_count": 8,
   "metadata": {},
   "outputs": [
    {
     "data": {
      "image/png": "[encoded data removed]",
      "text/plain": [
       "<Figure size 432x288 with 1 Axes>"
      ]
     },
     "metadata": {},
     "output_type": "display_data"
    }
   ],
   "source": [
    "G=nx.Graph()\n",
    "G.add_nodes_from(['a','b','c','d','e','f'])\n",
    "G.add_edges_from([('a','b'),('a','c'),('b','d'),('b','e'),('c','f')])\n",
    "nx.draw(G,with_labels=True)"
   ]
  },
  {
   "cell_type": "code",
   "execution_count": 9,
   "metadata": {},
   "outputs": [
    {
     "name": "stdout",
     "output_type": "stream",
     "text": [
      "tree\n"
     ]
    }
   ],
   "source": [
    "if nx.is_tree(G):\n",
    "    print(\"tree\")"
   ]
  },
  {
   "cell_type": "code",
   "execution_count": 10,
   "metadata": {},
   "outputs": [
    {
     "name": "stdout",
     "output_type": "stream",
     "text": [
      "['d', 'e', 'f']\n"
     ]
    }
   ],
   "source": [
    "#chapter 1 Exercise 1\n",
    "leaves=[]\n",
    "def get_leaves(G):\n",
    "    for i in G.nodes:\n",
    "        if G.degree(i)==1:\n",
    "            leaves.append(i)\n",
    "    return leaves        \n",
    "\n",
    "\n",
    "print(get_leaves(G))"
   ]
  },
  {
   "cell_type": "code",
   "execution_count": 17,
   "metadata": {},
   "outputs": [
    {
     "name": "stdout",
     "output_type": "stream",
     "text": [
      "(3, 'b')\n"
     ]
    }
   ],
   "source": [
    "#chapter 1 Exercise 2\n",
    "\n",
    "def max_degree(G):\n",
    "    mx = max(G.degree(i) for i in G.nodes)\n",
    "    for i in G.nodes:\n",
    "        if (G.degree(i)==mx): \n",
    "            nd=i\n",
    "            \n",
    "    return (mx,nd)\n",
    "print(max_degree(G)) \n"
   ]
  },
  {
   "cell_type": "code",
   "execution_count": 20,
   "metadata": {},
   "outputs": [
    {
     "name": "stdout",
     "output_type": "stream",
     "text": [
      "['b']\n"
     ]
    }
   ],
   "source": [
    "#chapter 1 Exercise 3\n",
    "def linked_nodes(G,nd1,nd2):\n",
    "    linked_nodes_list=[]\n",
    "    for i in G.nodes:\n",
    "        if(G.has_edge(i,nd1) and G.has_edge(i,nd2)):\n",
    "            linked_nodes_list.append(i)\n",
    "    return linked_nodes_list        \n",
    "print(linked_nodes(G,'d','e'))        \n"
   ]
  },
  {
   "cell_type": "code",
   "execution_count": null,
   "metadata": {},
   "outputs": [],
   "source": []
  }
 ],
 "metadata": {
  "kernelspec": {
   "display_name": "Python 3",
   "language": "python",
   "name": "python3"
  },
  "language_info": {
   "codemirror_mode": {
    "name": "ipython",
    "version": 3
   },
   "file_extension": ".py",
   "mimetype": "text/x-python",
   "name": "python",
   "nbconvert_exporter": "python",
   "pygments_lexer": "ipython3",
   "version": "3.6.5"
  }
 },
 "nbformat": 4,
 "nbformat_minor": 2
}
