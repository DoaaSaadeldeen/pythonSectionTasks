{
 "cells": [
  {
   "cell_type": "code",
   "execution_count": 15,
   "metadata": {},
   "outputs": [],
   "source": [
    "import networkx as nx\n",
    "%matplotlib inline\n",
    "\n",
    "G = nx.read_graphml('E:/fourth second term/social/python gethup course/FirstCourseNetworkScience-master/datasets/openflights/openflights_usa.graphml.gz')\n"
   ]
  },
  {
   "cell_type": "code",
   "execution_count": 16,
   "metadata": {},
   "outputs": [
    {
     "name": "stdout",
     "output_type": "stream",
     "text": [
      "no direct flight between them\n"
     ]
    }
   ],
   "source": [
    "#chapter 2 exercise 1\n",
    "if nx.shortest_path(G,'IND','FAI')==1:\n",
    "    print(\"there is a direct flight between them\")\n",
    "else:  print(\"no direct flight between them\")   "
   ]
  },
  {
   "cell_type": "code",
   "execution_count": 19,
   "metadata": {},
   "outputs": [
    {
     "name": "stdout",
     "output_type": "stream",
     "text": [
      "your trip will be as the following\n",
      " ['IND', 'BOS', 'SEA', 'FAI']   ['FAI', 'SEA', 'LAS']\n"
     ]
    }
   ],
   "source": [
    "#chapter 2 exercise 1\n",
    "IND_FAI=nx.shortest_path(G,'IND','FAI')\n",
    "FAI_ALSAKA=nx.shortest_path(G,'FAI','LAS')\n",
    "print(\"your trip will be as the following\\n\",IND_FAI,\" \",FAI_ALASKA)"
   ]
  },
  {
   "cell_type": "code",
   "execution_count": null,
   "metadata": {},
   "outputs": [],
   "source": [
    "US_nodes = G.subgraph(G.nodes('US'))\n",
    "list(US_nodes)\n",
    "if nx.is_connected(US_nodes):\n",
    "    print('there exist path between any two airports')\n",
    "else:print('impossible')   "
   ]
  }
 ],
 "metadata": {
  "kernelspec": {
   "display_name": "Python 3",
   "language": "python",
   "name": "python3"
  },
  "language_info": {
   "codemirror_mode": {
    "name": "ipython",
    "version": 3
   },
   "file_extension": ".py",
   "mimetype": "text/x-python",
   "name": "python",
   "nbconvert_exporter": "python",
   "pygments_lexer": "ipython3",
   "version": "3.6.5"
  }
 },
 "nbformat": 4,
 "nbformat_minor": 2
}
