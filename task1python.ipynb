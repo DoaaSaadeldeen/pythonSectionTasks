{
 "cells": [
  {
   "cell_type": "code",
   "execution_count": 1,
   "id": "27342dea-47a5-49fc-99d6-d729ab995583",
   "metadata": {},
   "outputs": [
    {
     "name": "stdout",
     "output_type": "stream",
     "text": [
      "hello\n"
     ]
    }
   ],
   "source": [
    "print(\"hello\")"
   ]
  },
  {
   "cell_type": "code",
   "execution_count": 2,
   "id": "b3345bbb-939e-4b4c-ab4b-3b9a459b4e0e",
   "metadata": {},
   "outputs": [
    {
     "name": "stdout",
     "output_type": "stream",
     "text": [
      "15\n"
     ]
    }
   ],
   "source": [
    "x=5\n",
    "y=10\n",
    "print(x+y)"
   ]
  },
  {
   "cell_type": "code",
   "execution_count": 3,
   "id": "297fb581-f3df-42ce-ae79-383cbcb3e09e",
   "metadata": {
    "collapsed": true,
    "jupyter": {
     "outputs_hidden": true,
     "source_hidden": true
    },
    "tags": []
   },
   "outputs": [
    {
     "name": "stdout",
     "output_type": "stream",
     "text": [
      "not graduated\n"
     ]
    }
   ],
   "source": [
    "age=21\n",
    "if age<22:\n",
    "    print(\"not graduated\")\n",
    "elif age>28:\n",
    "    print(\"graduated since along period\")\n",
    "else:\n",
    "    print(\"fresh\")"
   ]
  },
  {
   "cell_type": "code",
   "execution_count": 4,
   "id": "a6c4c880-6002-4fd5-9b51-e3a2ab2ad233",
   "metadata": {},
   "outputs": [
    {
     "data": {
      "text/plain": [
       "['doaa', 'saadeldeen', 'yassen']"
      ]
     },
     "execution_count": 4,
     "metadata": {},
     "output_type": "execute_result"
    }
   ],
   "source": [
    "my_list=[\"doaa\",\"saadeldeen\",\"yassen\"]\n",
    "my_list"
   ]
  },
  {
   "cell_type": "code",
   "execution_count": 6,
   "id": "f4e51743-ec42-4a30-8c40-1ffc1c48f6eb",
   "metadata": {},
   "outputs": [
    {
     "data": {
      "text/plain": [
       "['doaa', 21, 'fourthyear', True]"
      ]
     },
     "execution_count": 6,
     "metadata": {},
     "output_type": "execute_result"
    }
   ],
   "source": [
    "list2=[\"doaa\",21,\"fourthyear\",True]\n",
    "list2"
   ]
  },
  {
   "cell_type": "code",
   "execution_count": 7,
   "id": "e1392eda-3dcc-4f72-a37e-beb40787d049",
   "metadata": {},
   "outputs": [
    {
     "name": "stdout",
     "output_type": "stream",
     "text": [
      "doaa\n"
     ]
    }
   ],
   "source": [
    "print(list2[0])"
   ]
  },
  {
   "cell_type": "code",
   "execution_count": 8,
   "id": "ea1997bd-9b17-4bb7-afe0-42c90db7b753",
   "metadata": {},
   "outputs": [
    {
     "name": "stdout",
     "output_type": "stream",
     "text": [
      "True\n"
     ]
    }
   ],
   "source": [
    "last_val=list2[-1]\n",
    "print(last_val)"
   ]
  },
  {
   "cell_type": "code",
   "execution_count": 9,
   "id": "a94cc0a6-dbd7-4a30-82ae-a49997348d2f",
   "metadata": {},
   "outputs": [
    {
     "name": "stdout",
     "output_type": "stream",
     "text": [
      "['doaa', 21]\n"
     ]
    }
   ],
   "source": [
    "print(list2[0:2])"
   ]
  },
  {
   "cell_type": "code",
   "execution_count": 10,
   "id": "7d83c689-1f92-49d0-869d-8cb275e3cff8",
   "metadata": {},
   "outputs": [
    {
     "name": "stdout",
     "output_type": "stream",
     "text": [
      "[21]\n"
     ]
    }
   ],
   "source": [
    "print(list2[1:2])"
   ]
  },
  {
   "cell_type": "code",
   "execution_count": 11,
   "id": "2641cc4c-56e9-47ab-a389-aee323a9fbf3",
   "metadata": {},
   "outputs": [
    {
     "name": "stdout",
     "output_type": "stream",
     "text": [
      "[]\n"
     ]
    }
   ],
   "source": [
    "print(list2[2:1])"
   ]
  },
  {
   "cell_type": "code",
   "execution_count": 12,
   "id": "0d003a85-e0fe-48fa-b4fb-ddc9003dd9c7",
   "metadata": {},
   "outputs": [
    {
     "name": "stdout",
     "output_type": "stream",
     "text": [
      "['doaa', 21, 'fourthyear']\n"
     ]
    }
   ],
   "source": [
    "print(list2[:3])"
   ]
  },
  {
   "cell_type": "code",
   "execution_count": 13,
   "id": "64b2e1e1-2543-48fd-ae76-4e3a45bed08c",
   "metadata": {},
   "outputs": [
    {
     "name": "stdout",
     "output_type": "stream",
     "text": [
      "['doaa', 21, 'fourthyear', True]\n"
     ]
    }
   ],
   "source": [
    "print(list2[0:])"
   ]
  },
  {
   "cell_type": "code",
   "execution_count": 14,
   "id": "454ee2a1-d6ab-40f6-b74d-2fa963e37708",
   "metadata": {},
   "outputs": [],
   "source": [
    "#to add more items to list\n",
    "list2.append(\"new item\")"
   ]
  },
  {
   "cell_type": "code",
   "execution_count": 15,
   "id": "76b559d9-ed7a-4731-a93f-bb2ff1eb6831",
   "metadata": {},
   "outputs": [
    {
     "data": {
      "text/plain": [
       "['doaa', 21, 'fourthyear', True, 'new item']"
      ]
     },
     "execution_count": 15,
     "metadata": {},
     "output_type": "execute_result"
    }
   ],
   "source": [
    "list2"
   ]
  },
  {
   "cell_type": "code",
   "execution_count": 16,
   "id": "d9ba9644-2c65-4709-adfe-aa74afe09a5c",
   "metadata": {},
   "outputs": [],
   "source": [
    "list2.insert(4,\"new item again\")"
   ]
  },
  {
   "cell_type": "code",
   "execution_count": 17,
   "id": "9e09ee3c-e029-479f-a7c7-37382b06583d",
   "metadata": {},
   "outputs": [
    {
     "data": {
      "text/plain": [
       "['doaa', 21, 'fourthyear', True, 'new item again', 'new item']"
      ]
     },
     "execution_count": 17,
     "metadata": {},
     "output_type": "execute_result"
    }
   ],
   "source": [
    "list2"
   ]
  },
  {
   "cell_type": "code",
   "execution_count": 19,
   "id": "1e4cd7ed-dbc3-4cb5-80c9-d90d874af541",
   "metadata": {},
   "outputs": [
    {
     "data": {
      "text/plain": [
       "['doaa', 21, 'fourthyear', 'new item again', 'new item']"
      ]
     },
     "execution_count": 19,
     "metadata": {},
     "output_type": "execute_result"
    }
   ],
   "source": [
    "list2"
   ]
  },
  {
   "cell_type": "code",
   "execution_count": 20,
   "id": "4c130788-38fd-4550-9556-9f33da2de4df",
   "metadata": {},
   "outputs": [
    {
     "name": "stdout",
     "output_type": "stream",
     "text": [
      "1\n",
      "2\n",
      "3\n",
      "4\n",
      "5\n"
     ]
    }
   ],
   "source": [
    "arr = {1,2,3,4,5}\n",
    "for i in arr:\n",
    "    print(i)\n",
    "    "
   ]
  },
  {
   "cell_type": "code",
   "execution_count": 24,
   "id": "0c1807d2-0ca5-4a43-bf6c-617fd7832872",
   "metadata": {},
   "outputs": [],
   "source": [
    "arr = [3,2,4,1,5]\n"
   ]
  },
  {
   "cell_type": "code",
   "execution_count": 30,
   "id": "e635db00-b28b-435b-9b26-3ce67109a99b",
   "metadata": {},
   "outputs": [
    {
     "name": "stdout",
     "output_type": "stream",
     "text": [
      "[1, 2, 3, 4, 5]\n"
     ]
    }
   ],
   "source": [
    "for i in range (len(arr)):\n",
    "    for j in range (i+1,len(arr),1):\n",
    "        if(arr[j]<arr[i]):\n",
    "            tmp=arr[i]\n",
    "            arr[i]=arr[j]\n",
    "            arr[j]=tmp\n",
    "            \n",
    "print(arr)"
   ]
  },
  {
   "cell_type": "code",
   "execution_count": 31,
   "id": "eca0e536-01c5-42d1-a34c-e7088d582e41",
   "metadata": {},
   "outputs": [
    {
     "data": {
      "text/plain": [
       "1"
      ]
     },
     "execution_count": 31,
     "metadata": {},
     "output_type": "execute_result"
    }
   ],
   "source": [
    "tpl=[1,2,\"three\"]\n",
    "tpl[0]"
   ]
  },
  {
   "cell_type": "code",
   "execution_count": 32,
   "id": "fb27f185-1569-4924-9105-9027b0e01be1",
   "metadata": {},
   "outputs": [
    {
     "data": {
      "text/plain": [
       "1"
      ]
     },
     "execution_count": 32,
     "metadata": {},
     "output_type": "execute_result"
    }
   ],
   "source": [
    "tpl=(1,2,\"three\")\n",
    "tpl[0]"
   ]
  },
  {
   "cell_type": "code",
   "execution_count": 34,
   "id": "6097db46-bffe-4be7-80ce-60733b602b2d",
   "metadata": {},
   "outputs": [
    {
     "name": "stdout",
     "output_type": "stream",
     "text": [
      "A\n",
      "B\n",
      "C\n"
     ]
    }
   ],
   "source": [
    "student_grade = ('A', 'B', 'C')\n",
    "chars1,chars2,chars3 = student_grade\n",
    "\n",
    "print(chars1)\n",
    "print(chars2)\n",
    "print(chars3)"
   ]
  },
  {
   "cell_type": "code",
   "execution_count": 35,
   "id": "32bd12a1-59a6-49fd-be29-3724a8581734",
   "metadata": {},
   "outputs": [
    {
     "name": "stdout",
     "output_type": "stream",
     "text": [
      "excelent\n"
     ]
    }
   ],
   "source": [
    "#dictionaries\n",
    "dict={\n",
    "    \"A\":94,\n",
    "    \"B\":80,\n",
    "    \"C\":70,\n",
    "    \"D\":60}\n",
    "if(dict[\"A\"]>=94):\n",
    "    print(\"excelent\")"
   ]
  },
  {
   "cell_type": "code",
   "execution_count": 36,
   "id": "bbba58f2-daa9-47a4-b4c3-cb67dde5bd6a",
   "metadata": {},
   "outputs": [
    {
     "name": "stdout",
     "output_type": "stream",
     "text": [
      "this sad me\n"
     ]
    }
   ],
   "source": [
    "if(\"D\" in dict):\n",
    "    print(\"this sad me\")"
   ]
  },
  {
   "cell_type": "code",
   "execution_count": 37,
   "id": "9ae4f431-bb7d-4bbb-a6f1-35fe2dac045f",
   "metadata": {},
   "outputs": [
    {
     "name": "stdout",
     "output_type": "stream",
     "text": [
      "{'A': 94, 'B': 75, 'C': 70, 'excelent': 100}\n"
     ]
    }
   ],
   "source": [
    "#update\n",
    "dict[\"B\"]=75\n",
    "#delete\n",
    "del dict[\"D\"]\n",
    "#add\n",
    "dict[\"excelent\"]=100\n",
    "print(dict)"
   ]
  },
  {
   "cell_type": "code",
   "execution_count": 39,
   "id": "fc1563d7-8fcd-4f67-b128-9501bbd819ae",
   "metadata": {},
   "outputs": [
    {
     "name": "stdout",
     "output_type": "stream",
     "text": [
      "A   94\n",
      "B   75\n",
      "C   70\n",
      "excelent   100\n"
     ]
    }
   ],
   "source": [
    "for key in dict:\n",
    "    value=dict[key]\n",
    "    print(key ,\" \",value)"
   ]
  },
  {
   "cell_type": "code",
   "execution_count": 40,
   "id": "c69931be-de48-4caa-925c-4bcec1eb0ed0",
   "metadata": {},
   "outputs": [
    {
     "data": {
      "text/plain": [
       "{(1, 2, 3): 'first', ('A', 'b', 'c'): 'second', ('x', True): 'third'}"
      ]
     },
     "execution_count": 40,
     "metadata": {},
     "output_type": "execute_result"
    }
   ],
   "source": [
    "#dictionary is as record or json\n",
    "#list of tuples\n",
    "list3=[\n",
    "    (1,2,3),\n",
    "    (\"A\",\"b\",\"c\"),\n",
    "    (\"x\",\"y\"<\"z\")\n",
    "]\n",
    "list3\n",
    "\n",
    "#dictionary of tuples\n",
    "dict2={\n",
    "     (1,2,3):\"first\",\n",
    "    (\"A\",\"b\",\"c\"):\"second\",\n",
    "    (\"x\",\"y\"<\"z\"):\"third\"\n",
    "}\n",
    "dict2"
   ]
  },
  {
   "cell_type": "code",
   "execution_count": 56,
   "id": "0fb986b6-3a08-465d-9387-ac549e1edac3",
   "metadata": {},
   "outputs": [
    {
     "data": {
      "text/plain": [
       "[(1, 2, 3), ('A', 'b', 'c'), ('x', True)]"
      ]
     },
     "execution_count": 56,
     "metadata": {},
     "output_type": "execute_result"
    }
   ],
   "source": [
    "list3"
   ]
  },
  {
   "cell_type": "code",
   "execution_count": 57,
   "id": "aac0e5f8-e474-4077-8831-edb0c21f6745",
   "metadata": {},
   "outputs": [
    {
     "name": "stdout",
     "output_type": "stream",
     "text": [
      " key is  A  value is  94\n",
      " key is  B  value is  75\n",
      " key is  C  value is  70\n",
      " key is  excelent  value is  100\n"
     ]
    }
   ],
   "source": [
    "#looping over dictionary\n",
    "for i in dict:\n",
    "    print(\" key is \",i,\" value is \",dict[i])"
   ]
  },
  {
   "cell_type": "code",
   "execution_count": 58,
   "id": "cad0e58b-b441-42b3-ab86-7a2f0e626259",
   "metadata": {},
   "outputs": [
    {
     "name": "stdout",
     "output_type": "stream",
     "text": [
      "list number  0\n",
      "1\n",
      "2\n",
      "3\n",
      "4\n",
      "5\n",
      "list number  1\n",
      "6\n",
      "7\n",
      "8\n",
      "9\n",
      "10\n",
      "list number  2\n",
      "1\n",
      "2\n",
      "3\n",
      "list number  3\n",
      "4\n",
      "5\n",
      "6\n"
     ]
    }
   ],
   "source": [
    "#list of list\n",
    "my_list=[[1,2,3,4,5],[6,7,8,9,10],[1,2,3],[4,5,6]]\n",
    "cnt=0\n",
    "for i in my_list:\n",
    "    print(\"list number \",cnt)\n",
    "    for j in i:\n",
    "        print(j)\n",
    "    cnt=cnt+1    "
   ]
  },
  {
   "cell_type": "code",
   "execution_count": 59,
   "id": "20d6d719-e9d4-4bc1-be71-c17acf950eec",
   "metadata": {},
   "outputs": [
    {
     "name": "stdout",
     "output_type": "stream",
     "text": [
      "[{'name': 'doaa', 'section': 2, 'year': 4}, {'laguage1': 'arabic', 'language2': 'english'}, {'x': 1, 'y': 2, 'z': 3}]\n"
     ]
    }
   ],
   "source": [
    "list_dict =[{\"name\":\"doaa\",\"section\":2,\"year\":4},\n",
    "            {\"laguage1\":\"arabic\",\"language2\":\"english\"},\n",
    "            {\"x\":1,\"y\":2,\"z\":3}\n",
    "           ]\n",
    "print(list_dict)\n"
   ]
  },
  {
   "cell_type": "code",
   "execution_count": null,
   "id": "cb089783-d578-4aeb-8f70-0a3789d0db25",
   "metadata": {},
   "outputs": [],
   "source": []
  }
 ],
 "metadata": {
  "kernelspec": {
   "display_name": "Python 3 (ipykernel)",
   "language": "python",
   "name": "python3"
  },
  "language_info": {
   "codemirror_mode": {
    "name": "ipython",
    "version": 3
   },
   "file_extension": ".py",
   "mimetype": "text/x-python",
   "name": "python",
   "nbconvert_exporter": "python",
   "pygments_lexer": "ipython3",
   "version": "3.9.7"
  }
 },
 "nbformat": 4,
 "nbformat_minor": 5
}
